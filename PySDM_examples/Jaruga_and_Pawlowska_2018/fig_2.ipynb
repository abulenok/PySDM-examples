{
 "cells": [
  {
   "cell_type": "markdown",
   "metadata": {},
   "source": [
    "[![Binder](https://mybinder.org/badge_logo.svg)](https://mybinder.org/v2/gh/atmos-cloud-sim-uj/PySDM-examples.git/main?urlpath=lab/tree/PySDM_examples/Kreidenweis_et_al_2003/demo.ipynb)    \n",
    "[![Open In Colab](https://colab.research.google.com/assets/colab-badge.svg)](https://colab.research.google.com/github/atmos-cloud-sim-uj/PySDM-examples/blob/main/PySDM_examples/Kreidenweis_et_al_2003/demo.ipynb)"
   ]
  },
  {
   "cell_type": "markdown",
   "metadata": {},
   "source": [
    "#### based on Jaruga and Pawlowska (Geosci. Model Dev. 11)  \"_libcloudph++ 2.0: aqueous-phase chemistry extension of the particle-based cloud microphysics scheme_\"   \n",
    "https://doi.org/10.5194/gmd-11-3623-2018"
   ]
  },
  {
   "cell_type": "code",
   "execution_count": 1,
   "metadata": {},
   "outputs": [],
   "source": [
    "import sys\n",
    "if 'google.colab' in sys.modules:\n",
    "    !pip --quiet install git+https://github.com/atmos-cloud-sim-uj/PySDM-examples.git\n",
    "    !ldconfig"
   ]
  },
  {
   "cell_type": "code",
   "execution_count": 2,
   "metadata": {},
   "outputs": [
    {
     "name": "stderr",
     "output_type": "stream",
     "text": [
      "/home/slayoo/devel/PySDM/PySDM/backends/__init__.py:29: UserWarning: CUDA library found but cuInit() failed (error code: 999; message: unknown error)\n",
      "  warnings.warn(\n"
     ]
    }
   ],
   "source": [
    "from PySDM_examples.Kreidenweis_et_al_2003 import Settings, Simulation\n",
    "from PySDM import products as PySDM_products\n",
    "from PySDM_examples.utils.show_plot import show_plot\n",
    "from PySDM_examples.utils.widgets import display, FloatProgress\n",
    "from PySDM.physics import si\n",
    "from PySDM.physics.constants import ppt, ppb\n",
    "import numpy as np\n",
    "import os\n",
    "from matplotlib import pyplot"
   ]
  },
  {
   "cell_type": "code",
   "execution_count": 3,
   "metadata": {},
   "outputs": [],
   "source": [
    "n_points = 12 if 'CI' not in os.environ else 2\n",
    "nsd = np.logspace(0, n_points-1, num=n_points, base=2.0, dtype=int)"
   ]
  },
  {
   "cell_type": "code",
   "execution_count": 4,
   "metadata": {},
   "outputs": [],
   "source": [
    "default_settings = Settings(1,1,1)\n",
    "products = (\n",
    "    PySDM_products.PeakSupersaturation(),\n",
    "    PySDM_products.CloudDropletConcentration(radius_range=default_settings.cloud_radius_range),\n",
    "    PySDM_products.pH(radius_range=default_settings.cloud_radius_range),\n",
    "    PySDM_products.AqueousMoleFraction('S_VI')\n",
    ")"
   ]
  },
  {
   "cell_type": "code",
   "execution_count": null,
   "metadata": {},
   "outputs": [
    {
     "data": {
      "application/vnd.jupyter.widget-view+json": {
       "model_id": "bc63d49013c5424a9bcc0a6a2da0ef0f",
       "version_major": 2,
       "version_minor": 0
      },
      "text/plain": [
       "FloatProgress(value=0.0, max=1.0)"
      ]
     },
     "metadata": {},
     "output_type": "display_data"
    }
   ],
   "source": [
    "simulations = []\n",
    "progress = FloatProgress(value=0.0, min=0.0, max=1.0)\n",
    "display(progress)\n",
    "for it in range(n_points):\n",
    "    settings = Settings(\n",
    "        dt=1*si.s, \n",
    "        n_sd=nsd[it], \n",
    "        n_substep=10 if 'CI' not in os.environ else 2\n",
    "    )\n",
    "    settings.output_interval = 25 * si.s\n",
    "    simulation = Simulation(settings, products)\n",
    "    output = simulation.run()\n",
    "    simulations.append({'settings': settings, 'output': output})\n",
    "    progress.value += 1/n_points"
   ]
  },
  {
   "cell_type": "code",
   "execution_count": null,
   "metadata": {},
   "outputs": [],
   "source": [
    "x = np.log2(nsd)\n",
    "smax = []\n",
    "droplet_number = []\n",
    "pH = []\n",
    "sulfate_ppt = []\n",
    "for simulation in simulations:\n",
    "    smax.append(np.nanmax(simulation['output'][\"S_max\"]))\n",
    "    droplet_number.append(np.nanmax(simulation['output'][\"n_c_cm3\"]))\n",
    "    pH.append(simulation['output'][\"pH\"][-1])\n",
    "    S_VI = simulation['output'][\"aq_S_VI_ppb\"]\n",
    "    sulfate_ppt.append((S_VI[-1] - S_VI[0]) * ppb / ppt)"
   ]
  },
  {
   "cell_type": "code",
   "execution_count": null,
   "metadata": {},
   "outputs": [],
   "source": [
    "fig, axs = pyplot.subplots(2, 2, figsize=(10,7))\n",
    "\n",
    "axs[0][0].plot(x, droplet_number)\n",
    "axs[0][0].set_ylabel('Droplet conc. [cm-3]')\n",
    "axs[0][0].set_ylim(0, 1800)\n",
    "\n",
    "axs[0][1].plot(x, smax)\n",
    "axs[0][1].set_ylabel('Max. supersat [%]')\n",
    "axs[0][1].set_ylim(0.24, 0.61)\n",
    "\n",
    "axs[1][0].plot(x, pH)\n",
    "axs[1][0].set_ylabel('Average pH')\n",
    "axs[1][0].set_ylim(4.7, 5.2)\n",
    "\n",
    "axs[1][1].plot(x, sulfate_ppt)\n",
    "axs[1][1].set_ylabel('Total sulfate production [ppt]')\n",
    "axs[1][1].set_ylim(0*135, 180)  # TEMP 0* !!!\n",
    "\n",
    "for axss in axs:\n",
    "    for ax in axss:\n",
    "        ax.set_xlabel('ln_2(number of super-droplets)')\n",
    "        ax.grid()\n",
    "        ax.set_xlim(0,10)\n",
    "\n",
    "show_plot()"
   ]
  },
  {
   "cell_type": "code",
   "execution_count": null,
   "metadata": {},
   "outputs": [],
   "source": []
  }
 ],
 "metadata": {
  "kernelspec": {
   "display_name": "Python 3",
   "language": "python",
   "name": "python3"
  },
  "language_info": {
   "codemirror_mode": {
    "name": "ipython",
    "version": 3
   },
   "file_extension": ".py",
   "mimetype": "text/x-python",
   "name": "python",
   "nbconvert_exporter": "python",
   "pygments_lexer": "ipython3",
   "version": "3.8.7"
  }
 },
 "nbformat": 4,
 "nbformat_minor": 4
}
