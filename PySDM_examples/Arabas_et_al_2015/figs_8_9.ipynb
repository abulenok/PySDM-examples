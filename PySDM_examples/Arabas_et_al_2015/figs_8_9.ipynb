{
 "cells": [
  {
   "cell_type": "markdown",
   "metadata": {},
   "source": [
    "[![Binder](https://mybinder.org/badge_logo.svg)](https://mybinder.org/v2/gh/atmos-cloud-sim-uj/PySDM-examples.git/master?urlpath=lab/tree/PySDM_examples/Arabas_et_al_2015/figs_8_9.ipynb)   \n",
    "[![Open In Colab](https://colab.research.google.com/assets/colab-badge.svg)](https://colab.research.google.com/github/atmos-cloud-sim-uj/PySDM-examples/blob/master/PySDM_examples/Arabas_et_al_2015/figs_8_9.ipynb)"
   ]
  },
  {
   "cell_type": "markdown",
   "metadata": {},
   "source": [
    "#### based on Figs. 8 & 9 from Arabas et al. 2015 (Geosci. Model Dev. 8)  \"_libcloudph++ 1.0: a single-moment bulk, double-moment bulk, and particle-based warm-rain microphysics library in C++_\"   \n",
    "https://doi.org/10.5194/gmd-8-1677-2015"
   ]
  },
  {
   "cell_type": "code",
   "execution_count": 1,
   "metadata": {},
   "outputs": [],
   "source": [
    "import sys\n",
    "if 'google.colab' in sys.modules:\n",
    "    !pip --quiet install git+https://github.com/atmos-cloud-sim-uj/PySDM-examples.git\n",
    "    !ldconfig\n"
   ]
  },
  {
   "cell_type": "code",
   "execution_count": 3,
   "metadata": {
    "pycharm": {
     "name": "#%%\n"
    }
   },
   "outputs": [
    {
     "data": {
      "application/vnd.jupyter.widget-view+json": {
       "model_id": "1433d39befd54b3e959d0d4d5bad66f9",
       "version_major": 2,
       "version_minor": 0
      },
      "text/plain": [
       "Tab(children=(VBox(children=(HBox(children=(FloatProgress(value=0.0, max=1.0), Button(icon='play', style=Butto…"
      ]
     },
     "metadata": {},
     "output_type": "display_data"
    }
   ],
   "source": [
    "from PySDM_examples.Arabas_et_al_2015.demo_controller import DemoController\n",
    "from PySDM_examples.Arabas_et_al_2015.storage import Storage\n",
    "from PySDM_examples.Arabas_et_al_2015.demo_settings import DemoSettings\n",
    "from PySDM_examples.Arabas_et_al_2015.simulation import Simulation\n",
    "from PySDM_examples.Arabas_et_al_2015.demo_viewer import DemoViewer\n",
    "from PySDM_examples.Arabas_et_al_2015.netcdf_exporter import NetCDFExporter\n",
    "from PySDM_examples.utils.temporary_file import TemporaryFile\n",
    "from PySDM_examples.utils.widgets import display, Tab, VBox"
   ]
  },
  {
   "cell_type": "code",
   "execution_count": null,
   "metadata": {},
   "outputs": [],
   "source": [
    "settings = DemoSettings()\n",
    "storage = Storage()\n",
    "simulator = Simulation(settings, storage)\n",
    "temporary_file = TemporaryFile('.nc')\n",
    "exporter = NetCDFExporter(storage, settings, simulator, temporary_file.absolute_path)\n",
    "\n",
    "viewer = DemoViewer(storage, settings)\n",
    "\n",
    "controller = DemoController(simulator, viewer, exporter, temporary_file)\n",
    "\n",
    "tabs = Tab([VBox([controller.box(), viewer.box()]), settings.box()])\n",
    "tabs.set_title(1, \"Settings\")\n",
    "tabs.set_title(0, \"Simulation\")\n",
    "tabs.observe(controller.reinit, 'selected_index')\n",
    "display(tabs)"
   ]
  }
 ],
 "metadata": {
  "kernelspec": {
   "display_name": "Python 3",
   "language": "python",
   "name": "python3"
  },
  "language_info": {
   "codemirror_mode": {
    "name": "ipython",
    "version": 3
   },
   "file_extension": ".py",
   "mimetype": "text/x-python",
   "name": "python",
   "nbconvert_exporter": "python",
   "pygments_lexer": "ipython3",
   "version": "3.8.2"
  }
 },
 "nbformat": 4,
 "nbformat_minor": 2
}
