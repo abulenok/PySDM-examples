{
 "cells": [
  {
   "cell_type": "markdown",
   "metadata": {},
   "source": [
    "[![Binder](https://mybinder.org/badge_logo.svg)](https://mybinder.org/v2/gh/atmos-cloud-sim-uj/PySDM-examples.git/main?urlpath=PySDM_examples/Morrison_and_Grabowski_2007/fig_3.ipynb)\n",
    "[![Open In Colab](https://colab.research.google.com/assets/colab-badge.svg)](https://colab.research.google.com/github/atmos-cloud-sim-uj/PySDM-examples/blob/main/PySDM_examples/Morrison_and_Grabowski_2007/fig_3.ipynb)"
   ]
  },
  {
   "cell_type": "markdown",
   "metadata": {},
   "source": [
    "#### based on Fig. 3 from Morrison & Grabowski 2007 (J. Atmos. Sci. 64)  \"_Comparison of Bulk and Bin Warm-Rain Microphysics Models Using a Kinematic Framework_\"\n",
    "https://doi.org/10.1175/JAS3980"
   ]
  },
  {
   "cell_type": "code",
   "execution_count": 1,
   "metadata": {
    "pycharm": {
     "name": "#%%\n"
    }
   },
   "outputs": [],
   "source": [
    "import sys\n",
    "if 'google.colab' in sys.modules:\n",
    "    !pip --quiet install PySDM-examples\\\n",
    "            notebook==`python -c \"import notebook; print(notebook.__version__)\"` \\\n",
    "            tornado==`python -c \"import tornado; print(tornado.version)\"`\n",
    "    !ldconfig"
   ]
  },
  {
   "cell_type": "code",
   "execution_count": 2,
   "metadata": {
    "pycharm": {
     "name": "#%%\n"
    }
   },
   "outputs": [],
   "source": [
    "from PySDM_examples.Morrison_and_Grabowski_2007 import Cumulus\n",
    "from PySDM_examples.Szumowski_et_al_1998.fields import nondivergent_vector_field_2d, z_vec_coord\n",
    "from PySDM.physics import si\n",
    "from matplotlib import pylab\n",
    "from PySDM_examples.utils import show_plot"
   ]
  },
  {
   "cell_type": "code",
   "execution_count": 3,
   "metadata": {},
   "outputs": [],
   "source": [
    "settings = Cumulus()\n",
    "rho_times_courant = nondivergent_vector_field_2d(\n",
    "    settings.grid, settings.size, settings.dt, settings.stream_function,\n",
    "    t=25*si.min\n",
    ")\n",
    "dz = settings.size[-1] / settings.grid[-1]"
   ]
  },
  {
   "cell_type": "code",
   "execution_count": 5,
   "metadata": {},
   "outputs": [
    {
     "data": {
      "image/png": "[encoded data removed]",
      "text/plain": [
       "<Figure size 432x288 with 1 Axes>"
      ]
     },
     "metadata": {
      "needs_background": "light"
     },
     "output_type": "display_data"
    },
    {
     "data": {
      "application/vnd.jupyter.widget-view+json": {
       "model_id": "ba590140545f4ee39a60fca50937bf70",
       "version_major": 2,
       "version_minor": 0
      },
      "text/plain": [
       "HTML(value=\"<a href='./tmpds4fcy5_.pdf' target='_blank'>./tmpds4fcy5_.pdf</a><br>\")"
      ]
     },
     "metadata": {},
     "output_type": "display_data"
    }
   ],
   "source": [
    "z_vec_coords = tuple(coord * settings.size[i]/si.km for i, coord in enumerate(z_vec_coord(settings.grid)))\n",
    "pylab.clabel(pylab.contour(\n",
    "    *z_vec_coords,\n",
    "    rho_times_courant[-1] * dz / settings.dt / settings.rhod(z_vec_coords[-1]/settings.size[-1]),\n",
    "    levels=(2 * si.m/si.s, 4 * si.m/si.s, 6 * si.m/si.s)\n",
    "))\n",
    "pylab.grid()\n",
    "pylab.xlabel('X [km]')\n",
    "pylab.ylabel('Z [km]')\n",
    "show_plot()"
   ]
  },
  {
   "cell_type": "code",
   "execution_count": null,
   "metadata": {},
   "outputs": [],
   "source": []
  }
 ],
 "metadata": {
  "kernelspec": {
   "display_name": "Python 3 (ipykernel)",
   "language": "python",
   "name": "python3"
  },
  "language_info": {
   "codemirror_mode": {
    "name": "ipython",
    "version": 3
   },
   "file_extension": ".py",
   "mimetype": "text/x-python",
   "name": "python",
   "nbconvert_exporter": "python",
   "pygments_lexer": "ipython3",
   "version": "3.8.2"
  }
 },
 "nbformat": 4,
 "nbformat_minor": 1
}
