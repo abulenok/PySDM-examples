{
 "cells": [
  {
   "cell_type": "code",
   "execution_count": 2,
   "id": "a82b59b6-8213-4a42-9348-89ec4ed0d544",
   "metadata": {},
   "outputs": [],
   "source": [
    "import sys\n",
    "if 'google.colab' in sys.modules:\n",
    "    !pip --quiet install atmos-cloud-sim-uj-utils\n",
    "    from atmos_cloud_sim_uj_utils import pip_install_on_colab\n",
    "    pip_install_on_colab('PySDM-examples')\n",
    "    \n",
    "from PySDM_examples.Lowe_et_al_2019 import Settings, Simulation\n",
    "from PySDM_examples.Lowe_et_al_2019.aerosol import AerosolMarine, AerosolBoreal\n",
    "\n",
    "from PySDM.initialisation.sampling import spectral_sampling as spec_sampling\n",
    "from PySDM.physics import si\n",
    "\n",
    "from atmos_cloud_sim_uj_utils import show_plot\n",
    "import matplotlib\n",
    "from matplotlib import pyplot\n",
    "\n",
    "import numpy as np\n",
    "import os\n",
    "from joblib import Parallel, delayed, parallel_backend"
   ]
  },
  {
   "cell_type": "code",
   "execution_count": 3,
   "id": "a35e54b3-7194-47e8-81f5-a53825602863",
   "metadata": {},
   "outputs": [
    {
     "name": "stdout",
     "output_type": "stream",
     "text": [
      "tasks scheduled: 18\n",
      "[ 0.1         0.17782794  0.31622777  0.56234133  1.          1.77827941\n",
      "  3.16227766  5.62341325 10.        ]\n"
     ]
    },
    {
     "name": "stderr",
     "output_type": "stream",
     "text": [
      "[Parallel(n_jobs=-1)]: Using backend LokyBackend with 4 concurrent workers.\n",
      "[Parallel(n_jobs=-1)]: Done   5 tasks      | elapsed:  1.9min\n",
      "[Parallel(n_jobs=-1)]: Done  10 tasks      | elapsed:  2.6min\n",
      "[Parallel(n_jobs=-1)]: Done  13 out of  18 | elapsed:  3.1min remaining:  1.2min\n",
      "[Parallel(n_jobs=-1)]: Done  15 out of  18 | elapsed:  3.3min remaining:   39.8s\n",
      "[Parallel(n_jobs=-1)]: Done  18 out of  18 | elapsed:  3.8min finished\n"
     ]
    }
   ],
   "source": [
    "CI = 'CI' in os.environ\n",
    "\n",
    "nRes = 9\n",
    "updraft_list = np.geomspace(0.1, 10, 2 if CI else nRes)\n",
    "\n",
    "# subplot_list = [\"a\",\"b\",\"c\",\"d\"]\n",
    "subplot_list = [\"b\"]\n",
    "models = ('Constant', 'CompressedFilmOvadnevaite')\n",
    "\n",
    "Acc = {\"a\": 30, \"b\": 134, \"c\": 160, \"d\": 540}\n",
    "\n",
    "consts = {\"delta_min\":0.1, \n",
    "          \"MAC\":1, \n",
    "          \"HAC\":1, \n",
    "          \"c_pd\":1006 * si.joule / si.kilogram / si.kelvin, \n",
    "          \"g_std\":9.81 * si.metre / si.second ** 2,\n",
    "          \"BDF\":False\n",
    "          }\n",
    "\n",
    "def compute(key, settings):\n",
    "    simulation = Simulation(settings)\n",
    "    output = simulation.run()\n",
    "    output['updraft'] = settings.w\n",
    "    output['org_fraction'] = settings.aerosol.modes[0]['f_org']\n",
    "    output['color'] = settings.aerosol.color\n",
    "    return key, output\n",
    "\n",
    "print(f'tasks scheduled: {len(models) * len(subplot_list) * len(updraft_list)}')\n",
    "print(updraft_list)\n",
    "with parallel_backend('loky', n_jobs=-1):\n",
    "    output = dict(Parallel(verbose=10)(\n",
    "        delayed(compute)(subplot+f\"_w{w:.2f}_\"+model, Settings(\n",
    "            dz = 1 * si.m if CI else 0.1 * si.m,\n",
    "            n_sd_per_mode = 10 if CI else 50,\n",
    "            model = model,\n",
    "            aerosol = {\n",
    "                \"a\": AerosolMarine(Forg=0, Acc_N2=Acc[\"a\"]),\n",
    "                \"b\": AerosolMarine(Forg=0, Acc_N2=Acc[\"b\"]),\n",
    "                \"c\": AerosolBoreal(Forg=0, Acc_N2=Acc[\"c\"]),\n",
    "                \"d\": AerosolBoreal(Forg=0, Acc_N2=Acc[\"d\"])\n",
    "            }[subplot],\n",
    "            w = w * si.m / si.s,\n",
    "            spectral_sampling = spec_sampling.ConstantMultiplicity,\n",
    "            **consts\n",
    "        ))\n",
    "        for w in updraft_list\n",
    "        for subplot in subplot_list\n",
    "        for model in models\n",
    "    ))"
   ]
  },
  {
   "cell_type": "code",
   "execution_count": 6,
   "id": "38ef587c-b0f2-4db3-815f-753bbbeb2b37",
   "metadata": {},
   "outputs": [
    {
     "data": {
      "image/png": "[encoded data removed]",
      "text/plain": [
       "<Figure size 288x288 with 1 Axes>"
      ]
     },
     "metadata": {
      "needs_background": "light"
     },
     "output_type": "display_data"
    }
   ],
   "source": [
    "_, axes = pyplot.subplots(1,len(subplot_list), figsize=(len(subplot_list)*4,4), constrained_layout=True, sharex=True, sharey=False)\n",
    "\n",
    "for k, subplot in enumerate(subplot_list):\n",
    "    for i, w in enumerate(updraft_list):\n",
    "        key = subplot + f\"_w{w:.2f}_\"\n",
    "        var = \"n_c_cm3\"\n",
    "        z = np.array(output[key + \"CompressedFilmOvadnevaite\"][\"z\"])\n",
    "        CDNC_film = np.array(output[key + \"CompressedFilmOvadnevaite\"][var])\n",
    "        CDNC_bulk = np.array(output[key + \"Constant\"][var])\n",
    "\n",
    "        if len(subplot_list) > 1:\n",
    "            ax = axes[k]\n",
    "        else:\n",
    "            ax = axes\n",
    "        \n",
    "        a = ax.scatter(w, CDNC_bulk[-1], color=\"k\", marker='o', label=\"bulk\")\n",
    "        b = ax.scatter(w, CDNC_film[-1], color=\"k\", marker='^', label=\"film\")\n",
    "        ax.set_xscale('log')\n",
    "\n",
    "        ax.set_title(subplot, loc=\"left\", weight=\"bold\")\n",
    "        ax.set_xlabel(\"Updraft velocity, w [m s$^{-1}$]\")\n",
    "        if k == 0:\n",
    "            ax.set_ylabel(\"CDNC [cm$^{-3}$]\")\n",
    "            ax.legend([\"bulk\",\"film\"])            \n",
    "            \n",
    "pyplot.suptitle(\"zero organics\")\n",
    "pyplot.show()"
   ]
  },
  {
   "cell_type": "code",
   "execution_count": 14,
   "id": "46c59506-4c32-48d8-94b0-ea4044c24c08",
   "metadata": {},
   "outputs": [
    {
     "name": "stdout",
     "output_type": "stream",
     "text": [
      "b , bulk\n",
      "1.00e-01, 0.00, 103.61\n",
      "1.78e-01, 0.00, 128.08\n",
      "3.16e-01, 0.00, 149.13\n",
      "5.62e-01, 0.00, 176.36\n",
      "1.00e+00, 0.00, 209.80\n",
      "1.78e+00, 0.00, 245.03\n",
      "3.16e+00, 0.00, 280.27\n",
      "5.62e+00, 0.00, 311.11\n",
      "1.00e+01, 0.00, 333.15\n",
      "b , film\n",
      "1.00e-01, 0.00, 103.61\n",
      "1.78e-01, 0.00, 128.08\n",
      "3.16e-01, 0.00, 149.13\n",
      "5.62e-01, 0.00, 176.36\n",
      "1.00e+00, 0.00, 209.80\n",
      "1.78e+00, 0.00, 245.03\n",
      "3.16e+00, 0.00, 280.27\n",
      "5.62e+00, 0.00, 311.11\n",
      "1.00e+01, 0.00, 333.15\n"
     ]
    }
   ],
   "source": [
    "for k, subplot in enumerate(subplot_list):\n",
    "    print(subplot, \", bulk\")\n",
    "    for i, w in enumerate(updraft_list):\n",
    "        key = subplot + f\"_w{w:.2f}_\"\n",
    "        var = \"n_c_cm3\"\n",
    "        z = np.array(output[key + \"CompressedFilmOvadnevaite\"][\"z\"])\n",
    "        CDNC_bulk = np.array(output[key + \"Constant\"][var])\n",
    "        print(\"{:.2e}, 0.00, {:.2f}\".format(w,CDNC_bulk[-1]))\n",
    "        \n",
    "for k, subplot in enumerate(subplot_list):\n",
    "    print(subplot, \", film\")\n",
    "    for i, w in enumerate(updraft_list):\n",
    "        key = subplot + f\"_w{w:.2f}_\"\n",
    "        var = \"n_c_cm3\"\n",
    "        z = np.array(output[key + \"CompressedFilmOvadnevaite\"][\"z\"])\n",
    "        CDNC_film = np.array(output[key + \"CompressedFilmOvadnevaite\"][var])\n",
    "        print(\"{:.2e}, 0.00, {:.2f}\".format(w,CDNC_film[-1]))"
   ]
  },
  {
   "cell_type": "code",
   "execution_count": null,
   "id": "3040cc32-503f-4f00-b70a-5abfa79e8eaf",
   "metadata": {},
   "outputs": [],
   "source": []
  }
 ],
 "metadata": {
  "kernelspec": {
   "display_name": "Python 3 (ipykernel)",
   "language": "python",
   "name": "python3"
  },
  "language_info": {
   "codemirror_mode": {
    "name": "ipython",
    "version": 3
   },
   "file_extension": ".py",
   "mimetype": "text/x-python",
   "name": "python",
   "nbconvert_exporter": "python",
   "pygments_lexer": "ipython3",
   "version": "3.9.7"
  }
 },
 "nbformat": 4,
 "nbformat_minor": 5
}
