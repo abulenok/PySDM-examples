{
 "cells": [
  {
   "cell_type": "markdown",
   "metadata": {},
   "source": [
    "[![Binder](https://mybinder.org/badge_logo.svg)](https://mybinder.org/v2/gh/atmos-cloud-sim-uj/PySDM-examples.git/main?urlpath=PySDM_examples/Lowe_et_al_2019/fig_3.ipynb)\n",
    "[![Open In Colab](https://colab.research.google.com/assets/colab-badge.svg)](https://colab.research.google.com/github/atmos-cloud-sim-uj/PySDM-examples/blob/main/PySDM_examples/Lowe_et_al_2019/fig_3.ipynb)"
   ]
  },
  {
   "cell_type": "markdown",
   "metadata": {},
   "source": [
    "#### based on Fig. 3 from Lowe et al. 2019 (Nature Comm.)  \"_Key drivers of cloud response to surface-active organics_\"   \n",
    "https://doi.org/10.1038/s41467-019-12982-0"
   ]
  },
  {
   "cell_type": "code",
   "execution_count": null,
   "metadata": {},
   "outputs": [],
   "source": [
    "import sys\n",
    "if 'google.colab' in sys.modules:\n",
    "    !pip --quiet install PySDM-examples \\\n",
    "      notebook==`python -c \"import notebook; print(notebook.__version__)\"` \\\n",
    "      tornado==`python -c \"import tornado; print(tornado.version)\"`\n",
    "    !ldconfig"
   ]
  },
  {
   "cell_type": "code",
   "execution_count": 2,
   "metadata": {},
   "outputs": [],
   "source": [
    "from PySDM_examples.Lowe_et_al_2019 import Settings, Simulation\n",
    "from PySDM_examples.Lowe_et_al_2019.aerosol import AerosolMarine, AerosolBoreal\n",
    "from PySDM_examples.utils.show_plot import show_plot\n",
    "from PySDM.physics.spectra import Lognormal\n",
    "from PySDM.initialisation import spectral_sampling as spec_sampling\n",
    "from PySDM.physics import si\n",
    "import numpy as np\n",
    "from matplotlib import pyplot"
   ]
  },
  {
   "cell_type": "code",
   "execution_count": 23,
   "metadata": {},
   "outputs": [
    {
     "name": "stdout",
     "output_type": "stream",
     "text": [
      "[0.1        0.23333333 0.36666667 0.5        0.63333333 0.76666667\n",
      " 0.9       ]\n",
      "b bulk\n",
      "b film\n"
     ]
    }
   ],
   "source": [
    "updraft_list = np.geomspace(0.1,10,2)\n",
    "forg_list = np.linspace(0.1,0.9,3)\n",
    "subplot_list = [\"a\",\"b\",\"c\",\"d\"]\n",
    "\n",
    "output = {}\n",
    "\n",
    "updraft_list = np.geomspace(0.1,10,5)\n",
    "forg_list = np.linspace(0.1,0.9,7)\n",
    "subplot_list = [\"b\"]\n",
    "\n",
    "for model in ('bulk','film'):\n",
    "    for subplot in subplot_list:\n",
    "        print(subplot, model)\n",
    "        for w in updraft_list:\n",
    "            for Forg in forg_list:\n",
    "                aerosol_list = {\"a\": AerosolMarine(Acc_Forg=Forg, Acc_N2=30), \n",
    "                                \"b\": AerosolMarine(Acc_Forg=Forg, Acc_N2=134), \n",
    "                                \"c\": AerosolBoreal(Acc_Forg=Forg, Acc_N2=160), \n",
    "                                \"d\": AerosolBoreal(Acc_Forg=Forg, Acc_N2=540)}\n",
    "                aerosol = aerosol_list[subplot]\n",
    "                key = subplot+\"_w{:.2f}_f{:.2f}_\".format(w,Forg)+model\n",
    "                #print(key)\n",
    "                settings = Settings(\n",
    "                    dt=1*si.s, n_sd_per_mode=128, \n",
    "                    model=model,\n",
    "                    aerosol=aerosol,\n",
    "                    w=w * si.m / si.s,\n",
    "                    spectral_sampling=spec_sampling.ConstantMultiplicity\n",
    "                )\n",
    "                settings.output_interval = 2 * si.s\n",
    "                simulation = Simulation(settings)\n",
    "                output[key] = simulation.run()\n",
    "                output[key]['updraft'] = w\n",
    "                output[key]['org_fraction'] = Forg\n",
    "                output[key]['color'] = aerosol.color"
   ]
  },
  {
   "cell_type": "code",
   "execution_count": 24,
   "metadata": {},
   "outputs": [
    {
     "name": "stdout",
     "output_type": "stream",
     "text": [
      "0.1 0.1 98.32507386160411 107.69594862747682 9.53050366284244\n",
      "0.1 0.23333333333333334 94.187685201959 110.79899331200087 17.636390653856285\n",
      "0.1 0.3666666666666667 91.79479381281259 111.123180591605 21.056081696971567\n",
      "0.1 0.5 88.36755476434831 114.9363695422816 30.066255481194336\n",
      "0.1 0.6333333333333333 83.90596917347129 112.86767101257449 34.51685514677313\n",
      "0.1 0.7666666666666666 78.41003581716872 107.04753558461898 36.52274797351869\n",
      "0.1 0.9 69.81106032639137 91.59408005248733 31.20282033284217\n",
      "0.31622776601683794 0.1 142.5476079627042 164.55288820831765 15.437144516217243\n",
      "0.31622776601683794 0.23333333333333334 141.20656585364358 165.5739077669879 17.256521866412605\n",
      "0.31622776601683794 0.3666666666666667 139.865523640026 166.5949270835354 19.110787810942792\n",
      "0.31622776601683794 0.5 137.50346055111655 167.61594633375148 21.899438502815496\n",
      "0.31622776601683794 0.6333333333333333 135.84239667565905 167.29592364659376 23.15442582041158\n",
      "0.31622776601683794 0.7666666666666666 130.41727083222187 165.63485894793536 27.003776333442765\n",
      "0.31622776601683794 0.9 123.65110219370868 157.20762769870046 27.13807229346244\n",
      "1.0 0.1 199.47606940107804 230.201489723032 15.403060835420654\n",
      "1.0 0.23333333333333334 200.14878103847514 228.54895672667985 14.189532177438178\n",
      "1.0 0.3666666666666667 200.82149262169622 230.20148880396556 14.629906290764815\n",
      "1.0 0.5 203.14673730158418 230.20148786303756 13.31783661447089\n",
      "1.0 0.6333333333333333 202.83962792310066 231.85401939602664 14.304104069805208\n",
      "1.0 0.7666666666666666 204.85776402860137 235.15908300389322 14.791393979610804\n",
      "1.0 0.9 205.89607876969532 237.1772169593968 15.192682821653406\n",
      "3.1622776601683795 0.1 266.3520819162424 277.9391848442373 4.350295610468915\n",
      "3.1622776601683795 0.23333333333333334 266.3520789083534 277.9391844332984 4.350296634602916\n",
      "3.1622776601683795 0.3666666666666667 267.80045998951937 277.9391829480256 3.785924400168318\n",
      "3.1622776601683795 0.5 267.8004569936638 277.9391813770469 3.7859249745877093\n",
      "3.1622776601683795 0.6333333333333333 269.2488372800802 277.93917879979205 3.22762453034177\n",
      "3.1622776601683795 0.7666666666666666 270.69721636179025 279.3875567805129 3.210354556105928\n",
      "3.1622776601683795 0.9 269.8384343459011 279.3875508977143 3.538827437596365\n",
      "10.0 0.1 191.01469444243313 192.9070466586005 0.9906841050585705\n",
      "10.0 0.23333333333333334 191.01468995354523 192.9070439637076 0.9906850675320232\n",
      "10.0 0.3666666666666667 191.01468527640392 192.90704106427438 0.990686022455374\n",
      "10.0 0.5 191.96083903411252 192.90703747359223 0.49291222326422346\n",
      "10.0 0.6333333333333333 191.9608340941893 192.90703284583557 0.49291239856876623\n",
      "10.0 0.7666666666666666 191.96082794388155 192.90702668719285 0.4929124100193578\n",
      "10.0 0.9 191.96081103753477 192.9070154618054 0.4929154128681078\n"
     ]
    },
    {
     "data": {
      "image/png": "[encoded data removed]",
      "text/plain": [
       "<Figure size 432x288 with 2 Axes>"
      ]
     },
     "metadata": {
      "needs_background": "light"
     },
     "output_type": "display_data"
    },
    {
     "data": {
      "application/vnd.jupyter.widget-view+json": {
       "model_id": "9ef5c235293f40d1b7a3b33807a8be2f",
       "version_major": 2,
       "version_minor": 0
      },
      "text/plain": [
       "HTML(value=\"<a href='./tmpgmm3_j9l.pdf' target='_blank'>./tmpgmm3_j9l.pdf</a><br>\")"
      ]
     },
     "metadata": {},
     "output_type": "display_data"
    }
   ],
   "source": [
    "for subplot in subplot_list:\n",
    "    dCDNC = np.zeros((len(updraft_list), len(forg_list)))\n",
    "    for i,w in enumerate(updraft_list):\n",
    "        for j,Forg in enumerate(forg_list):\n",
    "            key = subplot+\"_w{:.2f}_f{:.2f}_\".format(w,Forg)\n",
    "            var = 'n_c_cm3'\n",
    "            z = np.array(output[key+\"film\"]['z'])\n",
    "            wz = np.where(z == z[-1])[0][0]\n",
    "            CDNC_film = np.array(output[key+\"film\"][var])[wz]\n",
    "            CDNC_bulk = np.array(output[key+\"bulk\"][var])[wz]\n",
    "            dCDNC[i,j] = (CDNC_film - CDNC_bulk) / CDNC_bulk * 100.0\n",
    "            print(w, Forg, CDNC_bulk, CDNC_film, dCDNC[i,j])\n",
    "\n",
    "    if subplot == \"a\" or subplot == \"b\":\n",
    "        pyplot.contour(forg_list, updraft_list, dCDNC, levels=[10,25], colors=[\"#1fa8f2\",\"#4287f5\"], linestyles=[\":\",\"--\"], linewidths=4)\n",
    "        pyplot.contourf(forg_list, updraft_list, dCDNC, cmap=\"Blues\", levels=np.linspace(0,90,11))\n",
    "        if subplot == \"a\":\n",
    "            pyplot.title(\"MA Accum. mode conc. N$_2 = 30$ cm$^{-3}$\")\n",
    "        else:\n",
    "            pyplot.title(\"MA Accum. mode conc. N$_2 = 135$ cm$^{-3}$\")\n",
    "    if subplot == \"c\" or subplot == \"d\":\n",
    "        pyplot.contour(forg_list, updraft_list, dCDNC, levels=[10,25], colors=[\"#04c753\",\"#157d3f\"], linestyles=[\":\",\"--\"], linewidths=4)\n",
    "        pyplot.contourf(forg_list, updraft_list, dCDNC, cmap=\"Greens\", levels=np.linspace(0,65,11))\n",
    "        if subplot == \"c\":\n",
    "            pyplot.title(\"HYY Accum. mode conc. N$_2 = 160$ cm$^{-3}$\")\n",
    "        else:\n",
    "            pyplot.title(\"HYY Accum. mode conc. N$_2 = 540$ cm$^{-3}$\")\n",
    "\n",
    "    pyplot.title(subplot,weight=\"bold\",loc=\"left\")\n",
    "    pyplot.xlabel(\"Organic mass fraction\")\n",
    "    pyplot.yscale(\"log\")\n",
    "    pyplot.yticks([0.1,1,10],[\"0.1\",\"1\",\"10\"])\n",
    "    pyplot.ylabel(\"Updraft [ms$^{-1}$]\")\n",
    "    pyplot.colorbar(label=\"$\\Delta_{CDNC}$ [%]\")\n",
    "    show_plot()"
   ]
  },
  {
   "cell_type": "code",
   "execution_count": null,
   "metadata": {},
   "outputs": [],
   "source": []
  }
 ],
 "metadata": {
  "kernelspec": {
   "display_name": "Python 3",
   "language": "python",
   "name": "python3"
  },
  "language_info": {
   "codemirror_mode": {
    "name": "ipython",
    "version": 3
   },
   "file_extension": ".py",
   "mimetype": "text/x-python",
   "name": "python",
   "nbconvert_exporter": "python",
   "pygments_lexer": "ipython3",
   "version": "3.8.3"
  }
 },
 "nbformat": 4,
 "nbformat_minor": 4
}
