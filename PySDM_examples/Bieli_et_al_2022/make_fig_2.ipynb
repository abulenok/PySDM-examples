{
 "cells": [
  {
   "cell_type": "markdown",
   "metadata": {},
   "source": [
    "## Figure 2: evolution of the first three moments for different values of coalescence efficiency\n",
    "https://www.essoar.org/doi/abs/10.1002/essoar.10510248.1"
   ]
  },
  {
   "cell_type": "code",
   "execution_count": 1,
   "metadata": {},
   "outputs": [],
   "source": [
    "%load_ext autoreload\n",
    "%autoreload"
   ]
  },
  {
   "cell_type": "code",
   "execution_count": 2,
   "metadata": {},
   "outputs": [],
   "source": [
    "from matplotlib import pyplot"
   ]
  },
  {
   "cell_type": "code",
   "execution_count": 3,
   "metadata": {},
   "outputs": [],
   "source": [
    "from PySDM_examples.Bieli_et_al_2022.settings import Settings\n",
    "from PySDM_examples.Bieli_et_al_2022.simulation import make_core\n",
    "from PySDM.physics import si\n",
    "from atmos_cloud_sim_uj_utils import show_plot"
   ]
  },
  {
   "cell_type": "code",
   "execution_count": 5,
   "metadata": {},
   "outputs": [
    {
     "name": "stdout",
     "output_type": "stream",
     "text": [
      "0\n",
      "[9.9998e+08]\n",
      "1\n",
      "gamma [1. 1. 1. 1. 1. 1. 1. 1.]\n",
      "multiplicity [62498750 62498750 62498750 62498750 62498750 62498750 62498750 62498750\n",
      " 62498750 62498750 62498750 62498750 62498750 62498750 62498750 62498750]\n",
      "Ec [0.8 0.8 0.8 0.8 0.8 0.8 0.8 0.8]\n",
      "[4.9999e+08]\n",
      "2\n",
      "gamma [1. 1. 1. 1. 1. 1. 1. 1.]\n",
      "multiplicity [31249375 31249375 31249375 31249375 31249375 31249375 31249375 31249375\n",
      " 31249375 31249375 31249375 31249375 31249375 31249375 31249375 31249375]\n",
      "Ec [0.8 0.8 0.8 0.8 0.8 0.8 0.8 0.8]\n",
      "[2.81244375e+08]\n"
     ]
    },
    {
     "data": {
      "image/png": "[encoded data removed]",
      "text/plain": [
       "<Figure size 432x288 with 1 Axes>"
      ]
     },
     "metadata": {
      "needs_background": "light"
     },
     "output_type": "display_data"
    },
    {
     "data": {
      "application/vnd.jupyter.widget-view+json": {
       "model_id": "3517f63d583b4c349e8870e997413684",
       "version_major": 2,
       "version_minor": 0
      },
      "text/plain": [
       "HTML(value=\"<a href='./fig2.pdf' target='_blank'>./fig2.pdf</a><br>\")"
      ]
     },
     "metadata": {},
     "output_type": "display_data"
    }
   ],
   "source": [
    "settings = Settings()\n",
    "for i in range(1):\n",
    "    coal_eff = settings.coal_effs[i]\n",
    "    particulator = make_core(settings, coal_eff)\n",
    "    for step in settings.output_steps:\n",
    "        print(step, flush=True)\n",
    "        particulator.run(step - particulator.n_steps)\n",
    "        pyplot.step(x=settings.radius_bins_edges[:-1] / si.micrometres, \n",
    "                    y=particulator.products['dv/dlnr'].get() * settings.rho,\n",
    "                    where='post')\n",
    "        print(particulator.products['M0'].get())\n",
    "    \n",
    "pyplot.xscale(\"log\")\n",
    "pyplot.xlabel(\"radius (um)\")\n",
    "pyplot.ylabel(\"dm/dlnr\")\n",
    "pyplot.legend(settings.output_steps)\n",
    "show_plot('fig2.pdf')"
   ]
  },
  {
   "cell_type": "code",
   "execution_count": null,
   "metadata": {},
   "outputs": [],
   "source": []
  },
  {
   "cell_type": "code",
   "execution_count": null,
   "metadata": {},
   "outputs": [],
   "source": []
  }
 ],
 "metadata": {
  "interpreter": {
   "hash": "b43cf254c70d60c2e21a7f71ba113e70c1694742e72407132919c841d907074b"
  },
  "kernelspec": {
   "display_name": "Python 3.9.4 64-bit ('edjPySDM': conda)",
   "name": "python3"
  },
  "language_info": {
   "codemirror_mode": {
    "name": "ipython",
    "version": 3
   },
   "file_extension": ".py",
   "mimetype": "text/x-python",
   "name": "python",
   "nbconvert_exporter": "python",
   "pygments_lexer": "ipython3",
   "version": "3.9.4"
  }
 },
 "nbformat": 4,
 "nbformat_minor": 4
}
