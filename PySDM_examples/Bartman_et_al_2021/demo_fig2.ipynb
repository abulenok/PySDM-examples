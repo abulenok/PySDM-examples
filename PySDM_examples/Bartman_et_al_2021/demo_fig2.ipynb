{
 "cells": [
  {
   "cell_type": "code",
   "execution_count": 1,
   "metadata": {},
   "outputs": [],
   "source": [
    "import sys\n",
    "if 'google.colab' in sys.modules:\n",
    "    !pip --quiet install PySDM-examples \\\n",
    "            notebook==`python -c \"import notebook; print(notebook.__version__)\"` \\\n",
    "            tornado==`python -c \"import tornado; print(tornado.version)\"`\n",
    "    !ldconfig"
   ]
  },
  {
   "cell_type": "code",
   "execution_count": 2,
   "metadata": {},
   "outputs": [],
   "source": [
    "from PySDM_examples.Arabas_et_al_2015 import Settings, SpinUp\n",
    "from PySDM_examples.Szumowski_et_al_1998 import Simulation, Storage\n",
    "from PySDM.exporters import NetCDFExporter\n",
    "from PySDM_examples.utils import TemporaryFile, show_plot\n",
    "from PySDM_examples.utils.progbar_controller import ProgBarController\n",
    "from PySDM_examples.Bartman_et_al_2021.label import label\n",
    "import PySDM.products as PySDM_products\n",
    "from PySDM.physics import si\n",
    "import matplotlib\n",
    "import numpy as np\n",
    "import string\n",
    "import os\n",
    "from scipy.io.netcdf import netcdf_file\n",
    "from matplotlib import pyplot\n",
    "from scipy.ndimage.filters import uniform_filter1d"
   ]
  },
  {
   "cell_type": "code",
   "execution_count": 2,
   "metadata": {},
   "outputs": [],
   "source": []
  },
  {
   "cell_type": "code",
   "execution_count": 3,
   "metadata": {},
   "outputs": [],
   "source": [
    "tol = .5e-6\n",
    "m = 2\n",
    "runs = (\n",
    "    {'file': TemporaryFile('.nc'), 'settings': {'condensation_adaptive': True, 'condensation_rtol_thd': tol}},\n",
    "    {'file': TemporaryFile('.nc'), 'settings': {'condensation_adaptive': True, 'condensation_rtol_thd': tol*m}},\n",
    "    {'file': TemporaryFile('.nc'), 'settings': {'condensation_adaptive': True, 'condensation_rtol_thd': tol*m*m}},\n",
    "    {'file': TemporaryFile('.nc'), 'settings': {'condensation_adaptive': True, 'condensation_rtol_thd': tol*m*m*m}},\n",
    "    {'file': TemporaryFile('.nc'), 'settings': {'condensation_adaptive': False, 'condensation_substeps': 128}},\n",
    "    {'file': TemporaryFile('.nc'), 'settings': {'condensation_adaptive': False, 'condensation_substeps':  32}},\n",
    "    {'file': TemporaryFile('.nc'), 'settings': {'condensation_adaptive': False, 'condensation_substeps':   8}},\n",
    "    {'file': TemporaryFile('.nc'), 'settings': {'condensation_adaptive': False, 'condensation_substeps':   2}},\n",
    ")"
   ]
  },
  {
   "cell_type": "code",
   "execution_count": 4,
   "metadata": {
    "scrolled": false
   },
   "outputs": [
    {
     "data": {
      "text/plain": "FloatProgress(value=0.0, description='run 1/8', max=1.0)",
      "application/vnd.jupyter.widget-view+json": {
       "version_major": 2,
       "version_minor": 0,
       "model_id": "16a56f1b46d84c7c9e4a8e4536088d1e"
      }
     },
     "metadata": {},
     "output_type": "display_data"
    },
    {
     "ename": "AttributeError",
     "evalue": "'IceWaterContent' object has no attribute 'get'",
     "output_type": "error",
     "traceback": [
      "\u001B[0;31m---------------------------------------------------------------------------\u001B[0m",
      "\u001B[0;31mAttributeError\u001B[0m                            Traceback (most recent call last)",
      "\u001B[0;32m/var/folders/1f/fpq_67lj1gxbtlwzd0t6hjch0000gp/T/ipykernel_1221/2079096079.py\u001B[0m in \u001B[0;36m<module>\u001B[0;34m\u001B[0m\n\u001B[1;32m     35\u001B[0m     \u001B[0msimulation\u001B[0m\u001B[0;34m.\u001B[0m\u001B[0mreinit\u001B[0m\u001B[0;34m(\u001B[0m\u001B[0mproducts\u001B[0m\u001B[0;34m)\u001B[0m\u001B[0;34m\u001B[0m\u001B[0;34m\u001B[0m\u001B[0m\n\u001B[1;32m     36\u001B[0m \u001B[0;34m\u001B[0m\u001B[0m\n\u001B[0;32m---> 37\u001B[0;31m     \u001B[0msimulation\u001B[0m\u001B[0;34m.\u001B[0m\u001B[0mrun\u001B[0m\u001B[0;34m(\u001B[0m\u001B[0mProgBarController\u001B[0m\u001B[0;34m(\u001B[0m\u001B[0;34mf\"run {i+1}/{len(runs)}\"\u001B[0m\u001B[0;34m)\u001B[0m\u001B[0;34m)\u001B[0m\u001B[0;34m\u001B[0m\u001B[0;34m\u001B[0m\u001B[0m\n\u001B[0m\u001B[1;32m     38\u001B[0m     \u001B[0mexporter\u001B[0m \u001B[0;34m=\u001B[0m \u001B[0mNetCDFExporter\u001B[0m\u001B[0;34m(\u001B[0m\u001B[0mstorage\u001B[0m\u001B[0;34m,\u001B[0m \u001B[0msettings\u001B[0m\u001B[0;34m,\u001B[0m \u001B[0msimulation\u001B[0m\u001B[0;34m,\u001B[0m \u001B[0mrun\u001B[0m\u001B[0;34m[\u001B[0m\u001B[0;34m'file'\u001B[0m\u001B[0;34m]\u001B[0m\u001B[0;34m.\u001B[0m\u001B[0mabsolute_path\u001B[0m\u001B[0;34m)\u001B[0m\u001B[0;34m\u001B[0m\u001B[0;34m\u001B[0m\u001B[0m\n\u001B[1;32m     39\u001B[0m     \u001B[0mexporter\u001B[0m\u001B[0;34m.\u001B[0m\u001B[0mrun\u001B[0m\u001B[0;34m(\u001B[0m\u001B[0mProgBarController\u001B[0m\u001B[0;34m(\u001B[0m\u001B[0;34m'netCDF'\u001B[0m\u001B[0;34m)\u001B[0m\u001B[0;34m)\u001B[0m\u001B[0;34m\u001B[0m\u001B[0;34m\u001B[0m\u001B[0m\n",
      "\u001B[0;32m~/PycharmProjects/PySDM-examples/PySDM_examples/Szumowski_et_al_1998/simulation.py\u001B[0m in \u001B[0;36mrun\u001B[0;34m(self, controller, vtk_exporter)\u001B[0m\n\u001B[1;32m    146\u001B[0m                 \u001B[0mself\u001B[0m\u001B[0;34m.\u001B[0m\u001B[0mcore\u001B[0m\u001B[0;34m.\u001B[0m\u001B[0mrun\u001B[0m\u001B[0;34m(\u001B[0m\u001B[0mstep\u001B[0m \u001B[0;34m-\u001B[0m \u001B[0mself\u001B[0m\u001B[0;34m.\u001B[0m\u001B[0mcore\u001B[0m\u001B[0;34m.\u001B[0m\u001B[0mn_steps\u001B[0m\u001B[0;34m)\u001B[0m\u001B[0;34m\u001B[0m\u001B[0;34m\u001B[0m\u001B[0m\n\u001B[1;32m    147\u001B[0m \u001B[0;34m\u001B[0m\u001B[0m\n\u001B[0;32m--> 148\u001B[0;31m                 \u001B[0mself\u001B[0m\u001B[0;34m.\u001B[0m\u001B[0mstore\u001B[0m\u001B[0;34m(\u001B[0m\u001B[0mstep\u001B[0m\u001B[0;34m)\u001B[0m\u001B[0;34m\u001B[0m\u001B[0;34m\u001B[0m\u001B[0m\n\u001B[0m\u001B[1;32m    149\u001B[0m \u001B[0;34m\u001B[0m\u001B[0m\n\u001B[1;32m    150\u001B[0m                 \u001B[0;32mif\u001B[0m \u001B[0mvtk_exporter\u001B[0m \u001B[0;32mis\u001B[0m \u001B[0;32mnot\u001B[0m \u001B[0;32mNone\u001B[0m\u001B[0;34m:\u001B[0m\u001B[0;34m\u001B[0m\u001B[0;34m\u001B[0m\u001B[0m\n",
      "\u001B[0;32m~/PycharmProjects/PySDM-examples/PySDM_examples/Szumowski_et_al_1998/simulation.py\u001B[0m in \u001B[0;36mstore\u001B[0;34m(self, step)\u001B[0m\n\u001B[1;32m    155\u001B[0m     \u001B[0;32mdef\u001B[0m \u001B[0mstore\u001B[0m\u001B[0;34m(\u001B[0m\u001B[0mself\u001B[0m\u001B[0;34m,\u001B[0m \u001B[0mstep\u001B[0m\u001B[0;34m)\u001B[0m\u001B[0;34m:\u001B[0m\u001B[0;34m\u001B[0m\u001B[0;34m\u001B[0m\u001B[0m\n\u001B[1;32m    156\u001B[0m         \u001B[0;32mfor\u001B[0m \u001B[0mname\u001B[0m\u001B[0;34m,\u001B[0m \u001B[0mproduct\u001B[0m \u001B[0;32min\u001B[0m \u001B[0mself\u001B[0m\u001B[0;34m.\u001B[0m\u001B[0mcore\u001B[0m\u001B[0;34m.\u001B[0m\u001B[0mproducts\u001B[0m\u001B[0;34m.\u001B[0m\u001B[0mitems\u001B[0m\u001B[0;34m(\u001B[0m\u001B[0;34m)\u001B[0m\u001B[0;34m:\u001B[0m\u001B[0;34m\u001B[0m\u001B[0;34m\u001B[0m\u001B[0m\n\u001B[0;32m--> 157\u001B[0;31m             \u001B[0mself\u001B[0m\u001B[0;34m.\u001B[0m\u001B[0mstorage\u001B[0m\u001B[0;34m.\u001B[0m\u001B[0msave\u001B[0m\u001B[0;34m(\u001B[0m\u001B[0mproduct\u001B[0m\u001B[0;34m.\u001B[0m\u001B[0mget\u001B[0m\u001B[0;34m(\u001B[0m\u001B[0;34m)\u001B[0m\u001B[0;34m,\u001B[0m \u001B[0mstep\u001B[0m\u001B[0;34m,\u001B[0m \u001B[0mname\u001B[0m\u001B[0;34m)\u001B[0m\u001B[0;34m\u001B[0m\u001B[0;34m\u001B[0m\u001B[0m\n\u001B[0m",
      "\u001B[0;31mAttributeError\u001B[0m: 'IceWaterContent' object has no attribute 'get'"
     ]
    }
   ],
   "source": [
    "radius_range = (.5*si.um, 25*si.um)\n",
    "dt = 32 * si.s\n",
    "\n",
    "for i, run in enumerate(runs):\n",
    "    settings = Settings()\n",
    "\n",
    "    products = (\n",
    "        # PySDM_products.PeakSupersaturation(),\n",
    "        PySDM_products.DynamicWallTime('Condensation'),\n",
    "        PySDM_products.AerosolSpecificConcentration(radius_threshold=radius_range[0]),\n",
    "        PySDM_products.CloudDropletEffectiveRadius(radius_range=radius_range)\n",
    "    )\n",
    "\n",
    "    settings.n_sd_per_gridbox = 128\n",
    "    settings.grid = (32, 32)\n",
    "    settings.dt = dt\n",
    "    settings.condensation_dt_cond_range = (.125*si.s, settings.dt)\n",
    "    \n",
    "    settings.mode_1.norm_factor *= 3\n",
    "    settings.mode_2.norm_factor *= 3\n",
    "    settings.spectrum_per_mass_of_dry_air.norm_factor *= 3\n",
    "    settings.simulation_time = settings.spin_up_time * (1 if 'CI' not in os.environ else .1)\n",
    "    settings.output_interval = settings.dt\n",
    "    settings.condensation_rtol_x = 1e-6\n",
    "    settings.condensation_rtol_thd = -1\n",
    "    settings.condensation_schedule = 'dynamic'\n",
    "    settings.kappa = .8\n",
    "    \n",
    "    for key, value in run['settings'].items():        \n",
    "        assert hasattr(settings, key)\n",
    "        setattr(settings, key, value)\n",
    "    \n",
    "    storage = Storage()\n",
    "    simulation = Simulation(settings, storage, SpinUp=SpinUp)\n",
    "    simulation.reinit(products)\n",
    "\n",
    "    simulation.run(ProgBarController(f\"run {i+1}/{len(runs)}\"))\n",
    "    exporter = NetCDFExporter(storage, settings, simulation, run['file'].absolute_path)\n",
    "    exporter.run(ProgBarController('netCDF'))"
   ]
  },
  {
   "cell_type": "code",
   "execution_count": null,
   "metadata": {
    "scrolled": false
   },
   "outputs": [],
   "source": [
    "matplotlib.rcParams[\"figure.figsize\"] = (7.3, 18)\n",
    "\n",
    "colors = (\n",
    "    '#5940ff', '#5980ff', '#59c0ff', '#59e0ff',\n",
    "    '#dd0000', '#dd6666', '#dd9999', '#ddcccc'\n",
    ")\n",
    "skip_steps = 30\n",
    "bins = 64\n",
    "bin_range = {\n",
    "    'S_max': (-.05, .27),\n",
    "    'n_a_mg': (0.05, 128.05),\n",
    "    'r_eff': (2, 18),\n",
    "    'dt_cond_min': (-3.5, 5.5)\n",
    "}\n",
    "window = 6\n",
    "\n",
    "fig, axs = pyplot.subplots(len(bin_range),1)\n",
    "for plot_i, var in enumerate(bin_range.keys()):\n",
    "    ax = axs[plot_i]\n",
    "    for i, run in enumerate(runs):\n",
    "        nc = netcdf_file(run['file'].absolute_path, mode='r', mmap=False)\n",
    "        n_spinup = nc.n_spin_up // nc.steps_per_output_interval\n",
    "        assert skip_steps >= n_spinup // 4\n",
    "        data = nc.variables[var]\n",
    "        if var == 'dt_cond_min':\n",
    "            data = np.log2(data[:])\n",
    "        timesteps = slice(skip_steps, -1)\n",
    "        wall_time = np.nanmean(nc.variables['Condensation_wall_time'][timesteps])\n",
    "        wall_time = np.nan if not np.isfinite(wall_time) else int(100 * wall_time) / 100\n",
    "        y, x, _ = ax.hist(data[timesteps, :, :].flatten(), \n",
    "                              bins=bins, range=bin_range[var], histtype='step', \n",
    "                              color=colors[i], lw=0)\n",
    "        if var != 'dt_cond_min':\n",
    "            ax.plot((x[1:] + x[:-1])/2, uniform_filter1d(y, size=window), color=colors[i], \n",
    "                        lw=8 if run['settings']['condensation_adaptive'] else 3,\n",
    "                        ls='--' if not run['settings']['condensation_adaptive'] else '-',\n",
    "                        label=f\"{label(run['settings'])} (time/step: {wall_time:.2f}s)\"\n",
    "                   )\n",
    "        else:\n",
    "            dx = x[1] - x[0]\n",
    "            ax.bar(x[0:-1] - dx/.66 + dx/1.1*min(4,i), y, color=colors[i], width=dx/1.5)\n",
    "        ax.set_ylabel(f'occurrence count ' + (f'({window}-bin moving average)' if var != 'dt_cond_min' else ''))\n",
    "        binwidth = (bin_range[var][1]-bin_range[var][0])/bins\n",
    "        if var == 'S_max':\n",
    "            ax.set_ylim(0, 3000)\n",
    "            ax.set_xlabel(f'peak supersaturation [%] ({binwidth}% binning)')\n",
    "        elif var == 'n_a_mg':\n",
    "            ax.set_xlabel(f'interstitial aerosol concentration [1/mg] ({binwidth} binning)')\n",
    "        elif var == 'r_eff':\n",
    "            ax.set_xlabel(f'cloud droplet effective radius [μm] ({binwidth} binning)')\n",
    "            ax.set_ylim(0, 3000)\n",
    "        elif var == 'dt_cond_min':\n",
    "            ax.set_xlabel(f'condensation timestep [s] ({dt:.0f} s / substeps)')\n",
    "            labels = {pw:2**pw for pw in range(-3, 6)}\n",
    "            ax.set_xticks(tuple(labels.keys()))\n",
    "            ax.set_xticklabels(tuple(labels.values()))\n",
    "            ax.set_yscale('log')\n",
    "            ax.set_ylim(1e2, 1.3e5)\n",
    "        else:\n",
    "            assert False\n",
    "    ax.grid()\n",
    "    if plot_i == 0:\n",
    "        ax.legend()\n",
    "    ax.set_xlim(bin_range[var])\n",
    "    ax.text(0, 1.03, '('+string.ascii_lowercase[plot_i]+')', transform=ax.transAxes, size=15, weight='bold')\n",
    "show_plot()"
   ]
  },
  {
   "cell_type": "code",
   "execution_count": null,
   "metadata": {},
   "outputs": [],
   "source": [
    "# TODO #449: updraft vs. downdraft?\n",
    "# TODO #449: different n_sd\n",
    "# TODO #449: different aerosol\n",
    "# TODO #449: schedule\n",
    "# TODO #449: different initialisation"
   ]
  },
  {
   "cell_type": "code",
   "execution_count": null,
   "metadata": {},
   "outputs": [],
   "source": []
  },
  {
   "cell_type": "code",
   "execution_count": null,
   "metadata": {},
   "outputs": [],
   "source": []
  }
 ],
 "metadata": {
  "kernelspec": {
   "display_name": "Python 3",
   "language": "python",
   "name": "python3"
  },
  "language_info": {
   "codemirror_mode": {
    "name": "ipython",
    "version": 3
   },
   "file_extension": ".py",
   "mimetype": "text/x-python",
   "name": "python",
   "nbconvert_exporter": "python",
   "pygments_lexer": "ipython3",
   "version": "3.8.7"
  }
 },
 "nbformat": 4,
 "nbformat_minor": 4
}