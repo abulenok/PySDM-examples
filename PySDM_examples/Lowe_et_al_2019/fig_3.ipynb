{
 "cells": [
  {
   "cell_type": "markdown",
   "metadata": {},
   "source": [
    "[![Binder](https://mybinder.org/badge_logo.svg)](https://mybinder.org/v2/gh/atmos-cloud-sim-uj/PySDM-examples.git/main?urlpath=PySDM_examples/Lowe_et_al_2019/fig_3.ipynb)\n",
    "[![Open In Colab](https://colab.research.google.com/assets/colab-badge.svg)](https://colab.research.google.com/github/atmos-cloud-sim-uj/PySDM-examples/blob/main/PySDM_examples/Lowe_et_al_2019/fig_3.ipynb)"
   ]
  },
  {
   "cell_type": "markdown",
   "metadata": {},
   "source": [
    "#### based on Fig. 3 from Lowe et al. 2019 (Nature Comm.)  \"_Key drivers of cloud response to surface-active organics_\"   \n",
    "https://doi.org/10.1038/s41467-019-12982-0"
   ]
  },
  {
   "cell_type": "code",
   "execution_count": 1,
   "metadata": {},
   "outputs": [],
   "source": [
    "import sys\n",
    "if 'google.colab' in sys.modules:\n",
    "    !pip --quiet install atmos-cloud-sim-uj-utils\n",
    "    from atmos_cloud_sim_uj_utils import pip_install_on_colab\n",
    "    pip_install_on_colab('PySDM-examples')"
   ]
  },
  {
   "cell_type": "code",
   "execution_count": 2,
   "metadata": {},
   "outputs": [],
   "source": [
    "from PySDM_examples.Lowe_et_al_2019 import Settings, Simulation\n",
    "from PySDM_examples.Lowe_et_al_2019.aerosol import AerosolMarine, AerosolBoreal\n",
    "from atmos_cloud_sim_uj_utils import show_plot\n",
    "from PySDM.initialisation import spectral_sampling as spec_sampling\n",
    "from PySDM.physics import si\n",
    "import numpy as np\n",
    "import os\n",
    "from matplotlib import pyplot\n",
    "import matplotlib\n",
    "from joblib import Parallel, delayed\n",
    "import numba"
   ]
  },
  {
   "cell_type": "code",
   "execution_count": 3,
   "metadata": {},
   "outputs": [],
   "source": [
    "numba.config.NUMBA_NUM_THREADS=2\n",
    "rtol_x = 1e-3\n",
    "rtol_thd = 1e-3"
   ]
  },
  {
   "cell_type": "code",
   "execution_count": 4,
   "metadata": {},
   "outputs": [],
   "source": [
    "CI = 'CI' in os.environ\n",
    "\n",
    "updraft_list = np.geomspace(0.1, 10, 2 if CI else 7)\n",
    "forg_list = np.linspace(0.1, 0.9, 2 if CI else 7)\n",
    "subplot_list = [\"a\",\"b\",\"c\",\"d\"]\n",
    "models = ('bulk', 'film')\n",
    "\n",
    "Acc = {\"a\": 30, \"b\": 134, \"c\": 160, \"d\": 540}"
   ]
  },
  {
   "cell_type": "code",
   "execution_count": null,
   "metadata": {},
   "outputs": [
    {
     "name": "stdout",
     "output_type": "stream",
     "text": [
      "tasks scheduled: 392\n"
     ]
    },
    {
     "name": "stderr",
     "output_type": "stream",
     "text": [
      "[Parallel(n_jobs=-2)]: Using backend LokyBackend with 3 concurrent workers.\n",
      "[Parallel(n_jobs=-2)]: Done   2 tasks      | elapsed:   47.5s\n",
      "[Parallel(n_jobs=-2)]: Done   7 tasks      | elapsed:  1.7min\n",
      "[Parallel(n_jobs=-2)]: Done  12 tasks      | elapsed:  2.4min\n"
     ]
    }
   ],
   "source": [
    "def compute(key, settings):\n",
    "    settings.output_interval = 1.0 * si.s\n",
    "    settings.rtol_x = rtol_x\n",
    "    settings.rtol_thd = rtol_thd\n",
    "    simulation = Simulation(settings)\n",
    "    output = simulation.run()\n",
    "    output['updraft'] = settings.w\n",
    "    output['org_fraction'] = settings.aerosol.aerosol_modes_per_cc[0]['f_org']\n",
    "    output['color'] = settings.aerosol.color\n",
    "    return key, output\n",
    "\n",
    "print(f'tasks scheduled: {len(models) * len(subplot_list) * len(forg_list) * len(updraft_list)}')\n",
    "output = dict(Parallel(verbose=10, n_jobs=-2)(\n",
    "    delayed(compute)(subplot+\"_w{:.2f}_f{:.2f}_\".format(w,Forg)+model, Settings(\n",
    "        dt = 0.1 * si.s, \n",
    "        n_sd_per_mode = 512, \n",
    "        model = model,\n",
    "        aerosol = {\n",
    "            \"a\": AerosolMarine(Acc_Forg=Forg, Acc_N2=Acc[\"a\"]), \n",
    "            \"b\": AerosolMarine(Acc_Forg=Forg, Acc_N2=Acc[\"b\"]), \n",
    "            \"c\": AerosolBoreal(Acc_Forg=Forg, Acc_N2=Acc[\"c\"]), \n",
    "            \"d\": AerosolBoreal(Acc_Forg=Forg, Acc_N2=Acc[\"d\"])\n",
    "        }[subplot],\n",
    "        w = w * si.m / si.s,\n",
    "        spectral_sampling = spec_sampling.ConstantMultiplicity\n",
    "    ))\n",
    "    for w in updraft_list\n",
    "    for Forg in forg_list\n",
    "    for subplot in subplot_list\n",
    "    for model in models\n",
    "))"
   ]
  },
  {
   "cell_type": "code",
   "execution_count": null,
   "metadata": {},
   "outputs": [],
   "source": [
    "fig,axes = pyplot.subplots(len(subplot_list),len(updraft_list), sharex=False, sharey=True, figsize=(3*len(updraft_list),4*len(subplot_list)))\n",
    "\n",
    "for k,subplot in enumerate(subplot_list):\n",
    "    for i,w in enumerate(updraft_list):\n",
    "        for j,Forg in enumerate(forg_list):\n",
    "                key = subplot+\"_w{:.2f}_f{:.2f}_\".format(w,Forg)\n",
    "                var = 'n_c_cm3'\n",
    "                z = np.array(output[key+\"film\"]['z'])\n",
    "                CDNC_film = np.array(output[key+\"film\"][var])\n",
    "                CDNC_bulk = np.array(output[key+\"bulk\"][var])\n",
    "                \n",
    "                cmap = matplotlib.cm.get_cmap('Spectral')\n",
    "                ax = axes[i]\n",
    "                \n",
    "                ax.plot(CDNC_film, z, \"--\", color=cmap(Forg))\n",
    "                ax.plot(CDNC_bulk, z, \"-\", color=cmap(Forg), label=\"{:.2f}\".format(Forg))\n",
    "                #ax.plot((CDNC_film - CDNC_bulk) / CDNC_bulk * 100, z, \"-\", color=cmap(Forg), label=\"{:.2f}\".format(Forg))\n",
    "                \n",
    "                if i == 0:\n",
    "                    ax.set_ylabel(\"Parcel displacement [m]\")\n",
    "                    ax.set_title(subplot, loc=\"left\", weight=\"bold\")\n",
    "                if i == len(updraft_list)-1 and k == 0:\n",
    "                    ax.legend(title=\"Forg\", loc=1)\n",
    "                if k == 0:\n",
    "                    ax.set_title(\"w = {:.2f} m/s\".format(w))\n",
    "                if k == len(subplot_list)-1:\n",
    "                    #ax.set_xlabel(\"$\\Delta$CDNC [%]\")\n",
    "                    ax.set_xlabel(\"CDNC [cm$^{-3}$]\")\n",
    "                    #ax.set_xlim([0,75])\n",
    "\n",
    "pyplot.savefig(\"fig3-parcel-profiles.png\",dpi=200)\n",
    "pyplot.show()"
   ]
  },
  {
   "cell_type": "code",
   "execution_count": null,
   "metadata": {},
   "outputs": [],
   "source": [
    "fig, axes = pyplot.subplots(2,2, sharex=True, sharey=True, figsize=(14,10))\n",
    "\n",
    "for subplot in subplot_list:\n",
    "    dCDNC = np.zeros((len(updraft_list), len(forg_list)))\n",
    "    for i,w in enumerate(updraft_list):\n",
    "        for j,Forg in enumerate(forg_list):\n",
    "            key = subplot+\"_w{:.2f}_f{:.2f}_\".format(w,Forg)\n",
    "            var = 'n_c_cm3'\n",
    "            z = np.array(output[key+\"film\"]['z'])\n",
    "            wz = np.where(z == z[-1])[0][0]\n",
    "            CDNC_film = np.array(output[key+\"film\"][var])[wz]\n",
    "            CDNC_bulk = np.array(output[key+\"bulk\"][var])[wz]\n",
    "            dCDNC[i,j] = (CDNC_film - CDNC_bulk) / CDNC_bulk * 100.0\n",
    "            #print(w, Forg, CDNC_bulk, CDNC_film, dCDNC[i,j])\n",
    "\n",
    "    if subplot == \"a\":\n",
    "        ax = axes[0,0]\n",
    "        ax.set_title(\"MA Accum. mode conc. N$_2 = 30$ cm$^{-3}$\")\n",
    "        ax.contour(forg_list, updraft_list, dCDNC, levels=[10,25], colors=[\"#1fa8f2\",\"#4287f5\"], \n",
    "                       linestyles=[\":\",\"--\"], linewidths=4)\n",
    "        p = ax.contourf(forg_list, updraft_list, dCDNC, cmap=\"Blues\", levels=np.linspace(0,90,11))\n",
    "    if subplot == \"b\":\n",
    "        ax = axes[0,1]\n",
    "        ax.set_title(\"MA Accum. mode conc. N$_2 = 135$ cm$^{-3}$\")\n",
    "        ax.contour(forg_list, updraft_list, dCDNC, levels=[10,25], colors=[\"#1fa8f2\",\"#4287f5\"], \n",
    "                       linestyles=[\":\",\"--\"], linewidths=4)\n",
    "        p = ax.contourf(forg_list, updraft_list, dCDNC, cmap=\"Blues\", levels=np.linspace(0,90,11))\n",
    "    if subplot == \"c\":\n",
    "        ax = axes[1,0]\n",
    "        ax.set_title(\"HYY Accum. mode conc. N$_2 = 160$ cm$^{-3}$\")\n",
    "        ax.contour(forg_list, updraft_list, dCDNC, levels=[10,25], colors=[\"#04c753\",\"#157d3f\"], \n",
    "                       linestyles=[\":\",\"--\"], linewidths=4)\n",
    "        p = ax.contourf(forg_list, updraft_list, dCDNC, cmap=\"Greens\", levels=np.linspace(0,70,11))\n",
    "    if subplot == \"d\":\n",
    "        ax = axes[1,1]\n",
    "        ax.set_title(\"HYY Accum. mode conc. N$_2 = 540$ cm$^{-3}$\")\n",
    "        ax.contour(forg_list, updraft_list, dCDNC, levels=[10,25], colors=[\"#04c753\",\"#157d3f\"], \n",
    "                       linestyles=[\":\",\"--\"], linewidths=4)\n",
    "        p = ax.contourf(forg_list, updraft_list, dCDNC, cmap=\"Greens\", levels=np.linspace(0,70,11))\n",
    "        \n",
    "    ax.set_title(subplot,weight=\"bold\",loc=\"left\")\n",
    "    if subplot == \"c\" or subplot == \"d\":\n",
    "        ax.set_xlabel(\"Organic mass fraction\")\n",
    "    ax.set_yscale(\"log\")\n",
    "    ax.set_yticks([0.1,1,10],[\"0.1\",\"1\",\"10\"])\n",
    "    if subplot == \"a\" or subplot == \"c\":\n",
    "        ax.set_ylabel(\"Updraft [ms$^{-1}$]\")\n",
    "    pyplot.colorbar(p, ax=ax, label=\"$\\Delta_{CDNC}$ [%]\")\n",
    "\n",
    "pyplot.savefig(\"fig3.png\", dpi=100)\n",
    "pyplot.show()\n",
    "#show_plot()"
   ]
  },
  {
   "cell_type": "code",
   "execution_count": null,
   "metadata": {},
   "outputs": [],
   "source": []
  }
 ],
 "metadata": {
  "kernelspec": {
   "display_name": "Python 3",
   "language": "python",
   "name": "python3"
  },
  "language_info": {
   "codemirror_mode": {
    "name": "ipython",
    "version": 3
   },
   "file_extension": ".py",
   "mimetype": "text/x-python",
   "name": "python",
   "nbconvert_exporter": "python",
   "pygments_lexer": "ipython3",
   "version": "3.8.3"
  }
 },
 "nbformat": 4,
 "nbformat_minor": 4
}
