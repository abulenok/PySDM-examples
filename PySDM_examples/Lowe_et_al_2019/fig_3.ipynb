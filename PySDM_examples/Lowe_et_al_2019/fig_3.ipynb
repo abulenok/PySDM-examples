{
 "cells": [
  {
   "cell_type": "markdown",
   "metadata": {},
   "source": [
    "[![Binder](https://mybinder.org/badge_logo.svg)](https://mybinder.org/v2/gh/atmos-cloud-sim-uj/PySDM-examples.git/main?urlpath=PySDM_examples/Lowe_et_al_2019/fig_3.ipynb)\n",
    "[![Open In Colab](https://colab.research.google.com/assets/colab-badge.svg)](https://colab.research.google.com/github/atmos-cloud-sim-uj/PySDM-examples/blob/main/PySDM_examples/Lowe_et_al_2019/fig_3.ipynb)"
   ]
  },
  {
   "cell_type": "markdown",
   "metadata": {},
   "source": [
    "#### based on Fig. 3 from Lowe et al. 2019 (Nature Comm.)  \"_Key drivers of cloud response to surface-active organics_\"   \n",
    "https://doi.org/10.1038/s41467-019-12982-0"
   ]
  },
  {
   "cell_type": "code",
   "execution_count": null,
   "metadata": {},
   "outputs": [],
   "source": [
    "import sys\n",
    "if 'google.colab' in sys.modules:\n",
    "    !pip --quiet install PySDM-examples \\\n",
    "      notebook==`python -c \"import notebook; print(notebook.__version__)\"` \\\n",
    "      tornado==`python -c \"import tornado; print(tornado.version)\"`\n",
    "    !ldconfig"
   ]
  },
  {
   "cell_type": "code",
   "execution_count": 3,
   "metadata": {},
   "outputs": [],
   "source": [
    "from PySDM_examples.Lowe_et_al_2019 import Settings, Simulation\n",
    "from PySDM_examples.Lowe_et_al_2019.aerosol_fig3 import AerosolMarine, AerosolBoreal\n",
    "from PySDM_examples.utils.show_plot import show_plot\n",
    "from PySDM.physics.spectra import Lognormal\n",
    "from PySDM.initialisation import spectral_sampling as spec_sampling\n",
    "from PySDM.physics import si\n",
    "import numpy as np\n",
    "from matplotlib import pyplot"
   ]
  },
  {
   "cell_type": "code",
   "execution_count": 4,
   "metadata": {},
   "outputs": [
    {
     "name": "stdout",
     "output_type": "stream",
     "text": [
      "a_w0.10_f0.20_bulk\n",
      "a_w0.10_f0.20_film\n",
      "b_w0.10_f0.20_bulk\n",
      "b_w0.10_f0.20_film\n",
      "c_w0.10_f0.20_bulk\n",
      "c_w0.10_f0.20_film\n",
      "d_w0.10_f0.20_bulk\n",
      "d_w0.10_f0.20_film\n",
      "a_w0.10_f0.35_bulk\n",
      "a_w0.10_f0.35_film\n",
      "b_w0.10_f0.35_bulk\n",
      "b_w0.10_f0.35_film\n",
      "c_w0.10_f0.35_bulk\n",
      "c_w0.10_f0.35_film\n",
      "d_w0.10_f0.35_bulk\n",
      "d_w0.10_f0.35_film\n",
      "a_w0.10_f0.50_bulk\n",
      "a_w0.10_f0.50_film\n",
      "b_w0.10_f0.50_bulk\n",
      "b_w0.10_f0.50_film\n",
      "c_w0.10_f0.50_bulk\n",
      "c_w0.10_f0.50_film\n",
      "d_w0.10_f0.50_bulk\n",
      "d_w0.10_f0.50_film\n",
      "a_w0.10_f0.65_bulk\n",
      "a_w0.10_f0.65_film\n",
      "b_w0.10_f0.65_bulk\n",
      "b_w0.10_f0.65_film\n",
      "c_w0.10_f0.65_bulk\n",
      "c_w0.10_f0.65_film\n",
      "d_w0.10_f0.65_bulk\n",
      "d_w0.10_f0.65_film\n",
      "a_w0.10_f0.80_bulk\n",
      "a_w0.10_f0.80_film\n",
      "b_w0.10_f0.80_bulk\n",
      "b_w0.10_f0.80_film\n",
      "c_w0.10_f0.80_bulk\n",
      "c_w0.10_f0.80_film\n",
      "d_w0.10_f0.80_bulk\n",
      "d_w0.10_f0.80_film\n",
      "a_w0.46_f0.20_bulk\n",
      "a_w0.46_f0.20_film\n",
      "b_w0.46_f0.20_bulk\n",
      "b_w0.46_f0.20_film\n",
      "c_w0.46_f0.20_bulk\n",
      "c_w0.46_f0.20_film\n",
      "d_w0.46_f0.20_bulk\n",
      "d_w0.46_f0.20_film\n",
      "a_w0.46_f0.35_bulk\n",
      "a_w0.46_f0.35_film\n",
      "b_w0.46_f0.35_bulk\n",
      "b_w0.46_f0.35_film\n",
      "c_w0.46_f0.35_bulk\n",
      "c_w0.46_f0.35_film\n",
      "d_w0.46_f0.35_bulk\n",
      "d_w0.46_f0.35_film\n",
      "a_w0.46_f0.50_bulk\n",
      "a_w0.46_f0.50_film\n",
      "b_w0.46_f0.50_bulk\n",
      "b_w0.46_f0.50_film\n",
      "c_w0.46_f0.50_bulk\n",
      "c_w0.46_f0.50_film\n",
      "d_w0.46_f0.50_bulk\n",
      "d_w0.46_f0.50_film\n",
      "a_w0.46_f0.65_bulk\n",
      "a_w0.46_f0.65_film\n",
      "b_w0.46_f0.65_bulk\n",
      "b_w0.46_f0.65_film\n",
      "c_w0.46_f0.65_bulk\n",
      "c_w0.46_f0.65_film\n",
      "d_w0.46_f0.65_bulk\n",
      "d_w0.46_f0.65_film\n",
      "a_w0.46_f0.80_bulk\n",
      "a_w0.46_f0.80_film\n",
      "b_w0.46_f0.80_bulk\n",
      "b_w0.46_f0.80_film\n",
      "c_w0.46_f0.80_bulk\n",
      "c_w0.46_f0.80_film\n",
      "d_w0.46_f0.80_bulk\n",
      "d_w0.46_f0.80_film\n",
      "a_w2.15_f0.20_bulk\n",
      "a_w2.15_f0.20_film\n",
      "b_w2.15_f0.20_bulk\n",
      "b_w2.15_f0.20_film\n",
      "c_w2.15_f0.20_bulk\n",
      "c_w2.15_f0.20_film\n",
      "d_w2.15_f0.20_bulk\n",
      "d_w2.15_f0.20_film\n",
      "a_w2.15_f0.35_bulk\n",
      "a_w2.15_f0.35_film\n",
      "b_w2.15_f0.35_bulk\n",
      "b_w2.15_f0.35_film\n",
      "c_w2.15_f0.35_bulk\n",
      "c_w2.15_f0.35_film\n",
      "d_w2.15_f0.35_bulk\n",
      "d_w2.15_f0.35_film\n",
      "a_w2.15_f0.50_bulk\n",
      "a_w2.15_f0.50_film\n",
      "b_w2.15_f0.50_bulk\n",
      "b_w2.15_f0.50_film\n",
      "c_w2.15_f0.50_bulk\n",
      "c_w2.15_f0.50_film\n",
      "d_w2.15_f0.50_bulk\n",
      "d_w2.15_f0.50_film\n",
      "a_w2.15_f0.65_bulk\n",
      "a_w2.15_f0.65_film\n",
      "b_w2.15_f0.65_bulk\n",
      "b_w2.15_f0.65_film\n",
      "c_w2.15_f0.65_bulk\n",
      "c_w2.15_f0.65_film\n",
      "d_w2.15_f0.65_bulk\n",
      "d_w2.15_f0.65_film\n",
      "a_w2.15_f0.80_bulk\n",
      "a_w2.15_f0.80_film\n",
      "b_w2.15_f0.80_bulk\n",
      "b_w2.15_f0.80_film\n",
      "c_w2.15_f0.80_bulk\n",
      "c_w2.15_f0.80_film\n",
      "d_w2.15_f0.80_bulk\n",
      "d_w2.15_f0.80_film\n",
      "a_w10.00_f0.20_bulk\n",
      "a_w10.00_f0.20_film\n",
      "b_w10.00_f0.20_bulk\n",
      "b_w10.00_f0.20_film\n",
      "c_w10.00_f0.20_bulk\n",
      "c_w10.00_f0.20_film\n",
      "d_w10.00_f0.20_bulk\n",
      "d_w10.00_f0.20_film\n",
      "a_w10.00_f0.35_bulk\n",
      "a_w10.00_f0.35_film\n",
      "b_w10.00_f0.35_bulk\n",
      "b_w10.00_f0.35_film\n",
      "c_w10.00_f0.35_bulk\n",
      "c_w10.00_f0.35_film\n",
      "d_w10.00_f0.35_bulk\n",
      "d_w10.00_f0.35_film\n",
      "a_w10.00_f0.50_bulk\n",
      "a_w10.00_f0.50_film\n",
      "b_w10.00_f0.50_bulk\n",
      "b_w10.00_f0.50_film\n",
      "c_w10.00_f0.50_bulk\n",
      "c_w10.00_f0.50_film\n",
      "d_w10.00_f0.50_bulk\n",
      "d_w10.00_f0.50_film\n",
      "a_w10.00_f0.65_bulk\n",
      "a_w10.00_f0.65_film\n",
      "b_w10.00_f0.65_bulk\n",
      "b_w10.00_f0.65_film\n",
      "c_w10.00_f0.65_bulk\n",
      "c_w10.00_f0.65_film\n",
      "d_w10.00_f0.65_bulk\n",
      "d_w10.00_f0.65_film\n",
      "a_w10.00_f0.80_bulk\n",
      "a_w10.00_f0.80_film\n",
      "b_w10.00_f0.80_bulk\n",
      "b_w10.00_f0.80_film\n",
      "c_w10.00_f0.80_bulk\n",
      "c_w10.00_f0.80_film\n",
      "d_w10.00_f0.80_bulk\n",
      "d_w10.00_f0.80_film\n"
     ]
    }
   ],
   "source": [
    "updraft_list = np.geomspace(0.1,10,4)\n",
    "forg_list = np.linspace(0.2,0.8,5)\n",
    "subplot_list = [\"a\",\"b\",\"c\",\"d\"]\n",
    "\n",
    "output = {}\n",
    "\n",
    "for i,subplot in enumerate(subplot_list):\n",
    "    for w in updraft_list:\n",
    "        for Forg in forg_list:\n",
    "            aerosol_list = [AerosolMarine(Acc_Forg=Forg, Acc_N2=30), \n",
    "                            AerosolMarine(Acc_Forg=Forg, Acc_N2=135), \n",
    "                            AerosolBoreal(Acc_Forg=Forg, Acc_N2=160), \n",
    "                            AerosolBoreal(Acc_Forg=Forg, Acc_N2=540)]\n",
    "            aerosol = aerosol_list[i]\n",
    "            for model in ('bulk', 'film'):\n",
    "                key = subplot+\"_w{:.2f}_f{:.2f}_\".format(w,Forg)+model\n",
    "                print(key)\n",
    "                settings = Settings(\n",
    "                    dt=1*si.s, n_sd_per_mode=400, \n",
    "                    model=model,\n",
    "                    aerosol=aerosol,\n",
    "                    w=w * si.m / si.s,\n",
    "                    spectral_sampling=spec_sampling.ConstantMultiplicity\n",
    "                )\n",
    "                settings.output_interval = 2 * si.s\n",
    "                simulation = Simulation(settings)\n",
    "                output[key] = simulation.run()\n",
    "                output[key]['updraft'] = w\n",
    "                output[key]['org_fraction'] = Forg\n",
    "                output[key]['color'] = aerosol.color"
   ]
  },
  {
   "cell_type": "code",
   "execution_count": 5,
   "metadata": {},
   "outputs": [
    {
     "data": {
      "image/png": "[encoded data removed]",
      "text/plain": [
       "<Figure size 432x288 with 2 Axes>"
      ]
     },
     "metadata": {
      "needs_background": "light"
     },
     "output_type": "display_data"
    },
    {
     "data": {
      "application/vnd.jupyter.widget-view+json": {
       "model_id": "b305995048e94006a36fcf8c43514086",
       "version_major": 2,
       "version_minor": 0
      },
      "text/plain": [
       "HTML(value=\"<a href='./tmpel5jq6h4.pdf' target='_blank'>./tmpel5jq6h4.pdf</a><br>\")"
      ]
     },
     "metadata": {},
     "output_type": "display_data"
    },
    {
     "data": {
      "image/png": "[encoded data removed]",
      "text/plain": [
       "<Figure size 432x288 with 2 Axes>"
      ]
     },
     "metadata": {
      "needs_background": "light"
     },
     "output_type": "display_data"
    },
    {
     "data": {
      "application/vnd.jupyter.widget-view+json": {
       "model_id": "03ef2b8c7d904a829cb6eeb720dde5d5",
       "version_major": 2,
       "version_minor": 0
      },
      "text/plain": [
       "HTML(value=\"<a href='./tmp0fue0ufy.pdf' target='_blank'>./tmp0fue0ufy.pdf</a><br>\")"
      ]
     },
     "metadata": {},
     "output_type": "display_data"
    },
    {
     "data": {
      "image/png": "[encoded data removed]",
      "text/plain": [
       "<Figure size 432x288 with 2 Axes>"
      ]
     },
     "metadata": {
      "needs_background": "light"
     },
     "output_type": "display_data"
    },
    {
     "data": {
      "application/vnd.jupyter.widget-view+json": {
       "model_id": "27941a849dbc453c869130c9a6d78934",
       "version_major": 2,
       "version_minor": 0
      },
      "text/plain": [
       "HTML(value=\"<a href='./tmpho4jn0h8.pdf' target='_blank'>./tmpho4jn0h8.pdf</a><br>\")"
      ]
     },
     "metadata": {},
     "output_type": "display_data"
    },
    {
     "data": {
      "image/png": "[encoded data removed]",
      "text/plain": [
       "<Figure size 432x288 with 2 Axes>"
      ]
     },
     "metadata": {
      "needs_background": "light"
     },
     "output_type": "display_data"
    },
    {
     "data": {
      "application/vnd.jupyter.widget-view+json": {
       "model_id": "cbdb3992edb14def813c921220d29b89",
       "version_major": 2,
       "version_minor": 0
      },
      "text/plain": [
       "HTML(value=\"<a href='./tmpg9zf_ar9.pdf' target='_blank'>./tmpg9zf_ar9.pdf</a><br>\")"
      ]
     },
     "metadata": {},
     "output_type": "display_data"
    }
   ],
   "source": [
    "for subplot in subplot_list:\n",
    "    dCDNC = np.zeros((len(updraft_list), len(forg_list)))\n",
    "    for i,w in enumerate(updraft_list):\n",
    "        for j,Forg in enumerate(forg_list):\n",
    "            key = subplot+\"_w{:.2f}_f{:.2f}_\".format(w,Forg)\n",
    "            var = 'n_c_cm3'\n",
    "            z = np.array(output[key+\"film\"]['z'])\n",
    "            wz = np.where(z == z[-1])[0][0]\n",
    "            CDNC_film = np.array(output[key+\"film\"][var])[wz]\n",
    "            CDNC_bulk = np.array(output[key+\"bulk\"][var])[wz]\n",
    "            dCDNC[i,j] = (CDNC_film - CDNC_bulk) / CDNC_bulk * 100.0\n",
    "\n",
    "    if subplot == \"a\" or subplot == \"b\":\n",
    "        pyplot.contour(forg_list, updraft_list, dCDNC, levels=[10,25], colors=[\"#1fa8f2\",\"#4287f5\"], linestyles=[\":\",\"--\"], linewidths=4)\n",
    "        pyplot.contourf(forg_list, updraft_list, dCDNC, cmap=\"Blues\", levels=np.linspace(0,90,11))\n",
    "        if subplot == \"a\":\n",
    "            pyplot.title(\"MA Accum. mode conc. N$_2 = 30$ cm$^{-3}$\")\n",
    "        else:\n",
    "            pyplot.title(\"MA Accum. mode conc. N$_2 = 135$ cm$^{-3}$\")\n",
    "    if subplot == \"c\" or subplot == \"d\":\n",
    "        pyplot.contour(forg_list, updraft_list, dCDNC, levels=[10,25], colors=[\"#04c753\",\"#157d3f\"], linestyles=[\":\",\"--\"], linewidths=4)\n",
    "        pyplot.contourf(forg_list, updraft_list, dCDNC, cmap=\"Greens\", levels=np.linspace(0,65,11))\n",
    "        if subplot == \"c\":\n",
    "            pyplot.title(\"HYY Accum. mode conc. N$_2 = 160$ cm$^{-3}$\")\n",
    "        else:\n",
    "            pyplot.title(\"HYY Accum. mode conc. N$_2 = 540$ cm$^{-3}$\")\n",
    "\n",
    "    pyplot.title(subplot,weight=\"bold\",loc=\"left\")\n",
    "    pyplot.xlabel(\"Organic mass fraction\")\n",
    "    pyplot.yscale(\"log\")\n",
    "    pyplot.yticks([0.1,1,10],[\"0.1\",\"1\",\"10\"])\n",
    "    pyplot.ylabel(\"Updraft [ms$^{-1}$]\")\n",
    "    pyplot.colorbar(label=\"$\\Delta_{CDNC}$ [%]\")\n",
    "    show_plot()"
   ]
  },
  {
   "cell_type": "code",
   "execution_count": null,
   "metadata": {},
   "outputs": [],
   "source": []
  }
 ],
 "metadata": {
  "kernelspec": {
   "display_name": "Python 3",
   "language": "python",
   "name": "python3"
  },
  "language_info": {
   "codemirror_mode": {
    "name": "ipython",
    "version": 3
   },
   "file_extension": ".py",
   "mimetype": "text/x-python",
   "name": "python",
   "nbconvert_exporter": "python",
   "pygments_lexer": "ipython3",
   "version": "3.8.3"
  }
 },
 "nbformat": 4,
 "nbformat_minor": 4
}
