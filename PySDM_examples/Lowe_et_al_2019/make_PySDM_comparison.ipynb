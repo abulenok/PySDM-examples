{
 "cells": [
  {
   "cell_type": "code",
   "execution_count": 1,
   "id": "0471b43d-1498-4e6e-bbb9-a71ef31d3f79",
   "metadata": {},
   "outputs": [
    {
     "name": "stdout",
     "output_type": "stream",
     "text": [
      "/Users/claresinger/Research/PySDM/PySDM/__init__.py\n"
     ]
    }
   ],
   "source": [
    "from PySDM_examples.Lowe_et_al_2019 import Settings, Simulation\n",
    "from PySDM_examples.Lowe_et_al_2019.aerosol import AerosolMarine, AerosolBoreal\n",
    "\n",
    "#!pip install -e ~/Research/PySDM\n",
    "import PySDM\n",
    "print(PySDM.__file__)\n",
    "from PySDM.initialisation.sampling import spectral_sampling as spec_sampling\n",
    "from PySDM.physics import si\n",
    "\n",
    "import numpy as np\n",
    "import os\n",
    "from matplotlib import pyplot\n",
    "import matplotlib\n",
    "from joblib import Parallel, delayed, parallel_backend"
   ]
  },
  {
   "cell_type": "code",
   "execution_count": 2,
   "id": "0cee92e7-81d4-464e-affb-fcced14b8da8",
   "metadata": {},
   "outputs": [],
   "source": [
    "updraft_list = np.geomspace(0.1, 10, 2)\n",
    "forg_list = np.linspace(0.1, 0.9, 2)\n",
    "\n",
    "subplot_list = [\"a\",\"b\",\"c\",\"d\"]\n",
    "models = ('bulk', 'film')\n",
    "\n",
    "Acc = {\"a\": 30, \"b\": 134, \"c\": 160, \"d\": 540}"
   ]
  },
  {
   "cell_type": "code",
   "execution_count": null,
   "id": "478faf05-b76f-411d-8864-99e90ea7bd6d",
   "metadata": {
    "tags": []
   },
   "outputs": [
    {
     "name": "stdout",
     "output_type": "stream",
     "text": [
      "tasks scheduled: 32\n"
     ]
    },
    {
     "name": "stderr",
     "output_type": "stream",
     "text": [
      "[Parallel(n_jobs=-1)]: Using backend LokyBackend with 4 concurrent workers.\n",
      "[Parallel(n_jobs=-1)]: Done   5 tasks      | elapsed:   55.0s\n",
      "[Parallel(n_jobs=-1)]: Done  10 tasks      | elapsed:  1.2min\n",
      "[Parallel(n_jobs=-1)]: Done  17 tasks      | elapsed:  1.8min\n"
     ]
    }
   ],
   "source": [
    "def compute(key, settings):\n",
    "    simulation = Simulation(settings)\n",
    "    output = simulation.run()\n",
    "    output['updraft'] = settings.w\n",
    "    output['org_fraction'] = settings.aerosol.aerosol_modes_per_cc[0]['f_org']\n",
    "    output['color'] = settings.aerosol.color\n",
    "    return key, output\n",
    "\n",
    "print(f'tasks scheduled: {len(models) * len(subplot_list) * len(forg_list) * len(updraft_list)}')\n",
    "with parallel_backend('loky', n_jobs=-1):\n",
    "    output = dict(Parallel(verbose=10)(\n",
    "        delayed(compute)(subplot+f\"_w{w:.2f}_f{Forg:.2f}_\"+model, Settings(\n",
    "            dz = 0.1 * si.m,\n",
    "            n_sd_per_mode = 100,\n",
    "            model = model,\n",
    "            aerosol = {\n",
    "                \"a\": AerosolMarine(Acc_Forg=Forg, Acc_N2=Acc[\"a\"]),\n",
    "                \"b\": AerosolMarine(Acc_Forg=Forg, Acc_N2=Acc[\"b\"]),\n",
    "                \"c\": AerosolBoreal(Acc_Forg=Forg, Acc_N2=Acc[\"c\"]),\n",
    "                \"d\": AerosolBoreal(Acc_Forg=Forg, Acc_N2=Acc[\"d\"])\n",
    "            }[subplot],\n",
    "            w = w * si.m / si.s,\n",
    "            spectral_sampling = spec_sampling.ConstantMultiplicity\n",
    "        ))\n",
    "        for w in updraft_list\n",
    "        for Forg in forg_list\n",
    "        for subplot in subplot_list\n",
    "        for model in models\n",
    "    ))"
   ]
  },
  {
   "cell_type": "code",
   "execution_count": null,
   "id": "1960d1bf-1c54-4ac8-975a-4c2c9f8caed9",
   "metadata": {
    "tags": []
   },
   "outputs": [],
   "source": [
    "fig,axes = pyplot.subplots(2,2,figsize=(10,10),sharex=True,sharey=False)\n",
    "\n",
    "f0 = open(\"testPySDM_Marine_0.txt\",\"w\")\n",
    "f1 = open(\"testPySDM_Marine_1.txt\",\"w\")\n",
    "\n",
    "f0.write(\"parcel disp = 200.00 \\n\")\n",
    "f0.write(\"updraft (m/s), forg, CDNC (cm-3) \\n\")\n",
    "f1.write(\"parcel disp = 200.00 \\n\")\n",
    "f1.write(\"updraft (m/s), forg, CDNC (cm-3) \\n\")\n",
    "\n",
    "for k,subplot in enumerate(subplot_list):\n",
    "    for i,w in enumerate(updraft_list):\n",
    "        for j,Forg in enumerate(forg_list):\n",
    "            key = subplot+f\"_w{w:.2f}_f{Forg:.2f}_\"\n",
    "            var = 'n_c_cm3'\n",
    "            z = np.array(output[key+\"film\"]['z'])\n",
    "            CDNC_film = np.array(output[key+\"film\"][var])\n",
    "            CDNC_bulk = np.array(output[key+\"bulk\"][var])\n",
    "\n",
    "            ax = axes.flatten()[k]\n",
    "            ax.set_title(subplot, loc=\"left\", weight=\"bold\")\n",
    "\n",
    "            cmap = matplotlib.cm.get_cmap('Spectral')\n",
    "            if i == 0:\n",
    "                ax.plot(w, CDNC_bulk[-1], 'o', color=cmap(Forg), label=\"{:.2f}\".format(Forg))\n",
    "                ax.plot(w, CDNC_film[-1], '*', color=cmap(Forg))\n",
    "            else:\n",
    "                ax.plot(w, CDNC_bulk[-1], 'o', color=cmap(Forg))\n",
    "                ax.plot(w, CDNC_film[-1], '*', color=cmap(Forg))\n",
    "\n",
    "            if subplot == \"b\":\n",
    "                f0.write(f\"{w:.2e}, {Forg:.2f}, {CDNC_bulk[-1]:.2f} \\n\")\n",
    "                f1.write(f\"{w:.2e}, {Forg:.2f}, {CDNC_film[-1]:.2f} \\n\")\n",
    "\n",
    "            ax.set_xscale(\"log\")\n",
    "            if k == 0:\n",
    "                ax.legend(title=\"Forg\")\n",
    "                ax.set_ylabel(\"CNDC [cm$^{-3}$]\")\n",
    "            if k == 2:\n",
    "                ax.set_ylabel(\"CNDC [cm$^{-3}$]\")\n",
    "            if k > 1:\n",
    "                ax.set_xlabel(\"updraft velocity [m/s]\")\n",
    "                \n",
    "pyplot.show()\n",
    "\n",
    "f0.close()\n",
    "f1.close()"
   ]
  },
  {
   "cell_type": "code",
   "execution_count": null,
   "id": "edf2018c-c3ea-4d4c-8b5f-3a09f4897be2",
   "metadata": {},
   "outputs": [],
   "source": []
  }
 ],
 "metadata": {
  "kernelspec": {
   "display_name": "Python 3 (ipykernel)",
   "language": "python",
   "name": "python3"
  },
  "language_info": {
   "codemirror_mode": {
    "name": "ipython",
    "version": 3
   },
   "file_extension": ".py",
   "mimetype": "text/x-python",
   "name": "python",
   "nbconvert_exporter": "python",
   "pygments_lexer": "ipython3",
   "version": "3.9.7"
  }
 },
 "nbformat": 4,
 "nbformat_minor": 5
}
